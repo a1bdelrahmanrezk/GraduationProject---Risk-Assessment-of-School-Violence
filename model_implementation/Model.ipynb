{
  "nbformat": 4,
  "nbformat_minor": 0,
  "metadata": {
    "colab": {
      "provenance": []
    },
    "kernelspec": {
      "name": "python3",
      "display_name": "Python 3"
    },
    "language_info": {
      "name": "python"
    }
  },
  "cells": [
    {
      "cell_type": "code",
      "source": [
        "from google.colab import drive\n",
        "drive.mount('/content/drive')"
      ],
      "metadata": {
        "id": "NI-OydzaYt_F"
      },
      "execution_count": null,
      "outputs": []
    },
    {
      "cell_type": "code",
      "execution_count": 5,
      "metadata": {
        "id": "lkaMDMUCdUfK"
      },
      "outputs": [],
      "source": [
        "import pandas as pd\n",
        "data = pd.read_csv(\"/content/drive/MyDrive/Automatic-Risk.csv\")\n"
      ]
    },
    {
      "cell_type": "code",
      "source": [
        "\n",
        "data.set_axis([\"gender\", \"age\",\"feel happy\",\"games violence\",\"emotional outbursts\",\"bully others\",\"feel angry\",\n",
        "\"get fight\",\"cruel animal\",\"crimes family\",\"bad actions\",\"witnessed someone\",\"parental education\"\n",
        ",\"father lose job\",\"member addicted alcoho\"], axis=\"columns\", inplace=True)\n"
      ],
      "metadata": {
        "id": "e47CDnCAEmmM",
        "colab": {
          "base_uri": "https://localhost:8080/"
        },
        "outputId": "646ab733-53ed-46c0-dd18-0e270bb3a65f"
      },
      "execution_count": 6,
      "outputs": [
        {
          "output_type": "stream",
          "name": "stderr",
          "text": [
            "<ipython-input-6-48d42433e99f>:1: FutureWarning: DataFrame.set_axis 'inplace' keyword is deprecated and will be removed in a future version. Use `obj = obj.set_axis(..., copy=False)` instead\n",
            "  data.set_axis([\"gender\", \"age\",\"feel happy\",\"games violence\",\"emotional outbursts\",\"bully others\",\"feel angry\",\n"
          ]
        }
      ]
    },
    {
      "cell_type": "code",
      "source": [
        "data.head(5)"
      ],
      "metadata": {
        "colab": {
          "base_uri": "https://localhost:8080/",
          "height": 632
        },
        "id": "DbSqXFHlAk7n",
        "outputId": "71af4c80-3e19-416f-b767-f0683dea3f98"
      },
      "execution_count": 7,
      "outputs": [
        {
          "output_type": "execute_result",
          "data": {
            "text/plain": [
              "          gender          age feel happy games violence emotional outbursts  \\\n",
              "0     Male / ولد  17-19 years    No / لا       Yes / اه            Yes / اه   \n",
              "1     Male / ولد  11-13 years    No / لا        No / لا            Yes / اه   \n",
              "2     Male / ولد  17-19 years    No / لا       Yes / اه            Yes / اه   \n",
              "3  Female /  بنت  17-19 years    No / لا        No / لا            Yes / اه   \n",
              "4  Female /  بنت  17-19 years   Yes / اه       Yes / اه             No / لا   \n",
              "\n",
              "  bully others feel angry                   get fight cruel animal  \\\n",
              "0      No / لا   Yes / اه  Use your power بستخدم قوتي      No / لا   \n",
              "1      No / لا   Yes / اه  Use your power بستخدم قوتي      No / لا   \n",
              "2     Yes / اه    No / لا  Use your power بستخدم قوتي      No / لا   \n",
              "3      No / لا    No / لا  Use your power بستخدم قوتي      No / لا   \n",
              "4     Yes / اه   Yes / اه  Use your power بستخدم قوتي      No / لا   \n",
              "\n",
              "  crimes family bad actions                           witnessed someone  \\\n",
              "0       No / لا     No / لا    You'll help him/her - هتساعده / هتساعدها   \n",
              "1       No / لا    Yes / اه    You'll help him/her - هتساعده / هتساعدها   \n",
              "2       No / لا     No / لا    You'll help him/her - هتساعده / هتساعدها   \n",
              "3       No / لا     No / لا    You'll help him/her - هتساعده / هتساعدها   \n",
              "4       No / لا    Yes / اه  You'll ignore him/her هتتاجهله - هتتجاهلها   \n",
              "\n",
              "                                  parental education father lose job  \\\n",
              "0  Parents have less than a high school diploma م...         No / لا   \n",
              "1  At least one of the parents or both have a uni...         No / لا   \n",
              "2  At least one of the parents or both have a uni...         No / لا   \n",
              "3  Both parents have a high school diploma معاهم ...         No / لا   \n",
              "4  At least one of the parents or both have a uni...         No / لا   \n",
              "\n",
              "  member addicted alcoho  \n",
              "0               Yes / اه  \n",
              "1                No / لا  \n",
              "2               Yes / اه  \n",
              "3                No / لا  \n",
              "4                No / لا  "
            ],
            "text/html": [
              "\n",
              "  <div id=\"df-ee759057-4a53-4171-8d1b-f1fb7d4bd831\">\n",
              "    <div class=\"colab-df-container\">\n",
              "      <div>\n",
              "<style scoped>\n",
              "    .dataframe tbody tr th:only-of-type {\n",
              "        vertical-align: middle;\n",
              "    }\n",
              "\n",
              "    .dataframe tbody tr th {\n",
              "        vertical-align: top;\n",
              "    }\n",
              "\n",
              "    .dataframe thead th {\n",
              "        text-align: right;\n",
              "    }\n",
              "</style>\n",
              "<table border=\"1\" class=\"dataframe\">\n",
              "  <thead>\n",
              "    <tr style=\"text-align: right;\">\n",
              "      <th></th>\n",
              "      <th>gender</th>\n",
              "      <th>age</th>\n",
              "      <th>feel happy</th>\n",
              "      <th>games violence</th>\n",
              "      <th>emotional outbursts</th>\n",
              "      <th>bully others</th>\n",
              "      <th>feel angry</th>\n",
              "      <th>get fight</th>\n",
              "      <th>cruel animal</th>\n",
              "      <th>crimes family</th>\n",
              "      <th>bad actions</th>\n",
              "      <th>witnessed someone</th>\n",
              "      <th>parental education</th>\n",
              "      <th>father lose job</th>\n",
              "      <th>member addicted alcoho</th>\n",
              "    </tr>\n",
              "  </thead>\n",
              "  <tbody>\n",
              "    <tr>\n",
              "      <th>0</th>\n",
              "      <td>Male / ولد</td>\n",
              "      <td>17-19 years</td>\n",
              "      <td>No / لا</td>\n",
              "      <td>Yes / اه</td>\n",
              "      <td>Yes / اه</td>\n",
              "      <td>No / لا</td>\n",
              "      <td>Yes / اه</td>\n",
              "      <td>Use your power بستخدم قوتي</td>\n",
              "      <td>No / لا</td>\n",
              "      <td>No / لا</td>\n",
              "      <td>No / لا</td>\n",
              "      <td>You'll help him/her - هتساعده / هتساعدها</td>\n",
              "      <td>Parents have less than a high school diploma م...</td>\n",
              "      <td>No / لا</td>\n",
              "      <td>Yes / اه</td>\n",
              "    </tr>\n",
              "    <tr>\n",
              "      <th>1</th>\n",
              "      <td>Male / ولد</td>\n",
              "      <td>11-13 years</td>\n",
              "      <td>No / لا</td>\n",
              "      <td>No / لا</td>\n",
              "      <td>Yes / اه</td>\n",
              "      <td>No / لا</td>\n",
              "      <td>Yes / اه</td>\n",
              "      <td>Use your power بستخدم قوتي</td>\n",
              "      <td>No / لا</td>\n",
              "      <td>No / لا</td>\n",
              "      <td>Yes / اه</td>\n",
              "      <td>You'll help him/her - هتساعده / هتساعدها</td>\n",
              "      <td>At least one of the parents or both have a uni...</td>\n",
              "      <td>No / لا</td>\n",
              "      <td>No / لا</td>\n",
              "    </tr>\n",
              "    <tr>\n",
              "      <th>2</th>\n",
              "      <td>Male / ولد</td>\n",
              "      <td>17-19 years</td>\n",
              "      <td>No / لا</td>\n",
              "      <td>Yes / اه</td>\n",
              "      <td>Yes / اه</td>\n",
              "      <td>Yes / اه</td>\n",
              "      <td>No / لا</td>\n",
              "      <td>Use your power بستخدم قوتي</td>\n",
              "      <td>No / لا</td>\n",
              "      <td>No / لا</td>\n",
              "      <td>No / لا</td>\n",
              "      <td>You'll help him/her - هتساعده / هتساعدها</td>\n",
              "      <td>At least one of the parents or both have a uni...</td>\n",
              "      <td>No / لا</td>\n",
              "      <td>Yes / اه</td>\n",
              "    </tr>\n",
              "    <tr>\n",
              "      <th>3</th>\n",
              "      <td>Female /  بنت</td>\n",
              "      <td>17-19 years</td>\n",
              "      <td>No / لا</td>\n",
              "      <td>No / لا</td>\n",
              "      <td>Yes / اه</td>\n",
              "      <td>No / لا</td>\n",
              "      <td>No / لا</td>\n",
              "      <td>Use your power بستخدم قوتي</td>\n",
              "      <td>No / لا</td>\n",
              "      <td>No / لا</td>\n",
              "      <td>No / لا</td>\n",
              "      <td>You'll help him/her - هتساعده / هتساعدها</td>\n",
              "      <td>Both parents have a high school diploma معاهم ...</td>\n",
              "      <td>No / لا</td>\n",
              "      <td>No / لا</td>\n",
              "    </tr>\n",
              "    <tr>\n",
              "      <th>4</th>\n",
              "      <td>Female /  بنت</td>\n",
              "      <td>17-19 years</td>\n",
              "      <td>Yes / اه</td>\n",
              "      <td>Yes / اه</td>\n",
              "      <td>No / لا</td>\n",
              "      <td>Yes / اه</td>\n",
              "      <td>Yes / اه</td>\n",
              "      <td>Use your power بستخدم قوتي</td>\n",
              "      <td>No / لا</td>\n",
              "      <td>No / لا</td>\n",
              "      <td>Yes / اه</td>\n",
              "      <td>You'll ignore him/her هتتاجهله - هتتجاهلها</td>\n",
              "      <td>At least one of the parents or both have a uni...</td>\n",
              "      <td>No / لا</td>\n",
              "      <td>No / لا</td>\n",
              "    </tr>\n",
              "  </tbody>\n",
              "</table>\n",
              "</div>\n",
              "      <button class=\"colab-df-convert\" onclick=\"convertToInteractive('df-ee759057-4a53-4171-8d1b-f1fb7d4bd831')\"\n",
              "              title=\"Convert this dataframe to an interactive table.\"\n",
              "              style=\"display:none;\">\n",
              "        \n",
              "  <svg xmlns=\"http://www.w3.org/2000/svg\" height=\"24px\"viewBox=\"0 0 24 24\"\n",
              "       width=\"24px\">\n",
              "    <path d=\"M0 0h24v24H0V0z\" fill=\"none\"/>\n",
              "    <path d=\"M18.56 5.44l.94 2.06.94-2.06 2.06-.94-2.06-.94-.94-2.06-.94 2.06-2.06.94zm-11 1L8.5 8.5l.94-2.06 2.06-.94-2.06-.94L8.5 2.5l-.94 2.06-2.06.94zm10 10l.94 2.06.94-2.06 2.06-.94-2.06-.94-.94-2.06-.94 2.06-2.06.94z\"/><path d=\"M17.41 7.96l-1.37-1.37c-.4-.4-.92-.59-1.43-.59-.52 0-1.04.2-1.43.59L10.3 9.45l-7.72 7.72c-.78.78-.78 2.05 0 2.83L4 21.41c.39.39.9.59 1.41.59.51 0 1.02-.2 1.41-.59l7.78-7.78 2.81-2.81c.8-.78.8-2.07 0-2.86zM5.41 20L4 18.59l7.72-7.72 1.47 1.35L5.41 20z\"/>\n",
              "  </svg>\n",
              "      </button>\n",
              "      \n",
              "  <style>\n",
              "    .colab-df-container {\n",
              "      display:flex;\n",
              "      flex-wrap:wrap;\n",
              "      gap: 12px;\n",
              "    }\n",
              "\n",
              "    .colab-df-convert {\n",
              "      background-color: #E8F0FE;\n",
              "      border: none;\n",
              "      border-radius: 50%;\n",
              "      cursor: pointer;\n",
              "      display: none;\n",
              "      fill: #1967D2;\n",
              "      height: 32px;\n",
              "      padding: 0 0 0 0;\n",
              "      width: 32px;\n",
              "    }\n",
              "\n",
              "    .colab-df-convert:hover {\n",
              "      background-color: #E2EBFA;\n",
              "      box-shadow: 0px 1px 2px rgba(60, 64, 67, 0.3), 0px 1px 3px 1px rgba(60, 64, 67, 0.15);\n",
              "      fill: #174EA6;\n",
              "    }\n",
              "\n",
              "    [theme=dark] .colab-df-convert {\n",
              "      background-color: #3B4455;\n",
              "      fill: #D2E3FC;\n",
              "    }\n",
              "\n",
              "    [theme=dark] .colab-df-convert:hover {\n",
              "      background-color: #434B5C;\n",
              "      box-shadow: 0px 1px 3px 1px rgba(0, 0, 0, 0.15);\n",
              "      filter: drop-shadow(0px 1px 2px rgba(0, 0, 0, 0.3));\n",
              "      fill: #FFFFFF;\n",
              "    }\n",
              "  </style>\n",
              "\n",
              "      <script>\n",
              "        const buttonEl =\n",
              "          document.querySelector('#df-ee759057-4a53-4171-8d1b-f1fb7d4bd831 button.colab-df-convert');\n",
              "        buttonEl.style.display =\n",
              "          google.colab.kernel.accessAllowed ? 'block' : 'none';\n",
              "\n",
              "        async function convertToInteractive(key) {\n",
              "          const element = document.querySelector('#df-ee759057-4a53-4171-8d1b-f1fb7d4bd831');\n",
              "          const dataTable =\n",
              "            await google.colab.kernel.invokeFunction('convertToInteractive',\n",
              "                                                     [key], {});\n",
              "          if (!dataTable) return;\n",
              "\n",
              "          const docLinkHtml = 'Like what you see? Visit the ' +\n",
              "            '<a target=\"_blank\" href=https://colab.research.google.com/notebooks/data_table.ipynb>data table notebook</a>'\n",
              "            + ' to learn more about interactive tables.';\n",
              "          element.innerHTML = '';\n",
              "          dataTable['output_type'] = 'display_data';\n",
              "          await google.colab.output.renderOutput(dataTable, element);\n",
              "          const docLink = document.createElement('div');\n",
              "          docLink.innerHTML = docLinkHtml;\n",
              "          element.appendChild(docLink);\n",
              "        }\n",
              "      </script>\n",
              "    </div>\n",
              "  </div>\n",
              "  "
            ]
          },
          "metadata": {},
          "execution_count": 7
        }
      ]
    },
    {
      "cell_type": "code",
      "source": [
        "data.dtypes"
      ],
      "metadata": {
        "colab": {
          "base_uri": "https://localhost:8080/"
        },
        "id": "O6ElOp9zzcIA",
        "outputId": "1207cbf9-c232-4938-d277-a0660c81ce2a"
      },
      "execution_count": 8,
      "outputs": [
        {
          "output_type": "execute_result",
          "data": {
            "text/plain": [
              "gender                    object\n",
              "age                       object\n",
              "feel happy                object\n",
              "games violence            object\n",
              "emotional outbursts       object\n",
              "bully others              object\n",
              "feel angry                object\n",
              "get fight                 object\n",
              "cruel animal              object\n",
              "crimes family             object\n",
              "bad actions               object\n",
              "witnessed someone         object\n",
              "parental education        object\n",
              "father lose job           object\n",
              "member addicted alcoho    object\n",
              "dtype: object"
            ]
          },
          "metadata": {},
          "execution_count": 8
        }
      ]
    },
    {
      "cell_type": "code",
      "source": [
        "data.info()"
      ],
      "metadata": {
        "colab": {
          "base_uri": "https://localhost:8080/"
        },
        "id": "SX-dnfEe0w-N",
        "outputId": "37585a65-eff4-44b2-e4ad-d51a8166eba6"
      },
      "execution_count": 9,
      "outputs": [
        {
          "output_type": "stream",
          "name": "stdout",
          "text": [
            "<class 'pandas.core.frame.DataFrame'>\n",
            "RangeIndex: 800 entries, 0 to 799\n",
            "Data columns (total 15 columns):\n",
            " #   Column                  Non-Null Count  Dtype \n",
            "---  ------                  --------------  ----- \n",
            " 0   gender                  800 non-null    object\n",
            " 1   age                     800 non-null    object\n",
            " 2   feel happy              800 non-null    object\n",
            " 3   games violence          800 non-null    object\n",
            " 4   emotional outbursts     800 non-null    object\n",
            " 5   bully others            800 non-null    object\n",
            " 6   feel angry              800 non-null    object\n",
            " 7   get fight               800 non-null    object\n",
            " 8   cruel animal            800 non-null    object\n",
            " 9   crimes family           800 non-null    object\n",
            " 10  bad actions             800 non-null    object\n",
            " 11  witnessed someone       800 non-null    object\n",
            " 12  parental education      800 non-null    object\n",
            " 13  father lose job         800 non-null    object\n",
            " 14  member addicted alcoho  800 non-null    object\n",
            "dtypes: object(15)\n",
            "memory usage: 93.9+ KB\n"
          ]
        }
      ]
    },
    {
      "cell_type": "code",
      "source": [
        "data['gender'] = data['gender'].str.replace('/ ولد', '')\n",
        "data['gender'] = data['gender'].str.replace('/  بنت', '')\n",
        "data['feel happy'] = data['feel happy'].str.replace('/ لا', '')\n",
        "data['feel happy'] = data['feel happy'].str.replace('/ اه', '')\n",
        "data['games violence'] = data['games violence'].str.replace('/ لا', '')\n",
        "data['games violence'] = data['games violence'].str.replace('/ اه', '')\n",
        "data['emotional outbursts'] = data['emotional outbursts'].str.replace('/ لا', '')\n",
        "data['emotional outbursts'] = data['emotional outbursts'].str.replace('/ اه', '')\n",
        "data['bully others'] = data['bully others'].str.replace('/ لا', '')\n",
        "data['bully others'] = data['bully others'].str.replace('/ اه', '')\n",
        "data['feel angry'] = data['feel angry'].str.replace('/ لا', '')\n",
        "data['feel angry'] = data['feel angry'].str.replace('/ اه', '')\n",
        "data['cruel animal'] = data['cruel animal'].str.replace('/ لا', '')\n",
        "data['cruel animal'] = data['cruel animal'].str.replace('/ اه', '')\n",
        "data['crimes family'] = data['crimes family'].str.replace('/ لا', '')\n",
        "data['crimes family'] = data['crimes family'].str.replace('/ اه', '')\n",
        "data['bad actions'] = data['bad actions'].str.replace('/ لا', '')\n",
        "data['bad actions'] = data['bad actions'].str.replace('/ اه', '')\n",
        "data['father lose job'] = data['father lose job'].str.replace('/ لا', '')\n",
        "data['father lose job'] = data['father lose job'].str.replace('/ اه', '')\n",
        "data['member addicted alcoho'] = data['member addicted alcoho'].str.replace('/ لا', '')\n",
        "data['member addicted alcoho'] = data['member addicted alcoho'].str.replace('/ اه', '')\n",
        "\n",
        "\n"
      ],
      "metadata": {
        "id": "xQtfVCs310ia"
      },
      "execution_count": 10,
      "outputs": []
    },
    {
      "cell_type": "code",
      "source": [
        "data['get fight'] = data['get fight'].str.replace('بستخدم قوتي', '')\n",
        "data['get fight'] = data['get fight'].str.replace('بستخدم سكين او موس', '')\n",
        "data['get fight'] = data['get fight'].str.replace('بستخدم الحجر', '')\n",
        "data['witnessed someone'] = data['witnessed someone'].str.replace('- هتساعده / هتساعدها', '')\n",
        "data['witnessed someone'] = data['witnessed someone'].str.replace(' هتتاجهله - هتتجاهلها', '')\n",
        "data['parental education'] = data['parental education'].str.replace('مش متعلم', '')\n",
        "data['parental education'] = data['parental education'].str.replace('معاهم ثانوية عامة', '')\n",
        "data['parental education'] = data['parental education'].str.replace('.واحد منهم او هما الاتنين معاهم تعليم جامعي', '')\n",
        "data['parental education'] = data['parental education'].str.replace('متعلمين لغاية قبل ثانوية عامة', '')"
      ],
      "metadata": {
        "colab": {
          "base_uri": "https://localhost:8080/"
        },
        "id": "wCuqccVU67hY",
        "outputId": "882ba5ab-7fe0-403e-df99-ebcac973ca84"
      },
      "execution_count": 11,
      "outputs": [
        {
          "output_type": "stream",
          "name": "stderr",
          "text": [
            "<ipython-input-11-f187c99c2795>:8: FutureWarning: The default value of regex will change from True to False in a future version.\n",
            "  data['parental education'] = data['parental education'].str.replace('.واحد منهم او هما الاتنين معاهم تعليم جامعي', '')\n"
          ]
        }
      ]
    },
    {
      "cell_type": "code",
      "source": [
        "data['witnessed someone'] = data['witnessed someone'].str.replace(\"'ll\", ' Will')\n",
        "data['witnessed someone'] = data['witnessed someone'].str.replace(\"You Will help him/her\", ' help')\n",
        "data['witnessed someone'] = data['witnessed someone'].str.replace(\"You Will ignore him/her\", ' ignore')"
      ],
      "metadata": {
        "id": "Xqmufd68esMq"
      },
      "execution_count": 12,
      "outputs": []
    },
    {
      "cell_type": "code",
      "source": [
        "data['get fight'] = data['get fight'].str.replace(\"Use your power\", 'power')\n",
        "data['get fight'] = data['get fight'].str.replace(\"Brick or Stone \", 'Brick')\n"
      ],
      "metadata": {
        "id": "PK45_oOgKc8C"
      },
      "execution_count": 13,
      "outputs": []
    },
    {
      "cell_type": "code",
      "source": [
        "data['parental education'] = data['parental education'].str.replace(\"Parents have less than a high school diploma\", 'Less high school')\n",
        "data['parental education'] = data['parental education'].str.replace(\"At least one of the parents or both have a university education\", 'university education')\n",
        "data['parental education'] = data['parental education'].str.replace(\"Both parents have a high school diploma \", 'high school')\n"
      ],
      "metadata": {
        "id": "SKm2qsrCLP0l"
      },
      "execution_count": 14,
      "outputs": []
    },
    {
      "cell_type": "code",
      "source": [
        "data.sample()"
      ],
      "metadata": {
        "colab": {
          "base_uri": "https://localhost:8080/",
          "height": 177
        },
        "id": "1KSmLwFQixA-",
        "outputId": "94eee046-9527-426e-d2dc-3178eebe8114"
      },
      "execution_count": 15,
      "outputs": [
        {
          "output_type": "execute_result",
          "data": {
            "text/plain": [
              "    gender          age feel happy games violence emotional outbursts  \\\n",
              "276  Male   17-19 years        No            Yes                  No    \n",
              "\n",
              "    bully others feel angry get fight cruel animal crimes family bad actions  \\\n",
              "276          No        Yes      Brick         Yes            No          No    \n",
              "\n",
              "    witnessed someone parental education father lose job  \\\n",
              "276             help         high school             No    \n",
              "\n",
              "    member addicted alcoho  \n",
              "276                   Yes   "
            ],
            "text/html": [
              "\n",
              "  <div id=\"df-8af6012f-aed5-4bce-b4c7-ccdda5f6cbf9\">\n",
              "    <div class=\"colab-df-container\">\n",
              "      <div>\n",
              "<style scoped>\n",
              "    .dataframe tbody tr th:only-of-type {\n",
              "        vertical-align: middle;\n",
              "    }\n",
              "\n",
              "    .dataframe tbody tr th {\n",
              "        vertical-align: top;\n",
              "    }\n",
              "\n",
              "    .dataframe thead th {\n",
              "        text-align: right;\n",
              "    }\n",
              "</style>\n",
              "<table border=\"1\" class=\"dataframe\">\n",
              "  <thead>\n",
              "    <tr style=\"text-align: right;\">\n",
              "      <th></th>\n",
              "      <th>gender</th>\n",
              "      <th>age</th>\n",
              "      <th>feel happy</th>\n",
              "      <th>games violence</th>\n",
              "      <th>emotional outbursts</th>\n",
              "      <th>bully others</th>\n",
              "      <th>feel angry</th>\n",
              "      <th>get fight</th>\n",
              "      <th>cruel animal</th>\n",
              "      <th>crimes family</th>\n",
              "      <th>bad actions</th>\n",
              "      <th>witnessed someone</th>\n",
              "      <th>parental education</th>\n",
              "      <th>father lose job</th>\n",
              "      <th>member addicted alcoho</th>\n",
              "    </tr>\n",
              "  </thead>\n",
              "  <tbody>\n",
              "    <tr>\n",
              "      <th>276</th>\n",
              "      <td>Male</td>\n",
              "      <td>17-19 years</td>\n",
              "      <td>No</td>\n",
              "      <td>Yes</td>\n",
              "      <td>No</td>\n",
              "      <td>No</td>\n",
              "      <td>Yes</td>\n",
              "      <td>Brick</td>\n",
              "      <td>Yes</td>\n",
              "      <td>No</td>\n",
              "      <td>No</td>\n",
              "      <td>help</td>\n",
              "      <td>high school</td>\n",
              "      <td>No</td>\n",
              "      <td>Yes</td>\n",
              "    </tr>\n",
              "  </tbody>\n",
              "</table>\n",
              "</div>\n",
              "      <button class=\"colab-df-convert\" onclick=\"convertToInteractive('df-8af6012f-aed5-4bce-b4c7-ccdda5f6cbf9')\"\n",
              "              title=\"Convert this dataframe to an interactive table.\"\n",
              "              style=\"display:none;\">\n",
              "        \n",
              "  <svg xmlns=\"http://www.w3.org/2000/svg\" height=\"24px\"viewBox=\"0 0 24 24\"\n",
              "       width=\"24px\">\n",
              "    <path d=\"M0 0h24v24H0V0z\" fill=\"none\"/>\n",
              "    <path d=\"M18.56 5.44l.94 2.06.94-2.06 2.06-.94-2.06-.94-.94-2.06-.94 2.06-2.06.94zm-11 1L8.5 8.5l.94-2.06 2.06-.94-2.06-.94L8.5 2.5l-.94 2.06-2.06.94zm10 10l.94 2.06.94-2.06 2.06-.94-2.06-.94-.94-2.06-.94 2.06-2.06.94z\"/><path d=\"M17.41 7.96l-1.37-1.37c-.4-.4-.92-.59-1.43-.59-.52 0-1.04.2-1.43.59L10.3 9.45l-7.72 7.72c-.78.78-.78 2.05 0 2.83L4 21.41c.39.39.9.59 1.41.59.51 0 1.02-.2 1.41-.59l7.78-7.78 2.81-2.81c.8-.78.8-2.07 0-2.86zM5.41 20L4 18.59l7.72-7.72 1.47 1.35L5.41 20z\"/>\n",
              "  </svg>\n",
              "      </button>\n",
              "      \n",
              "  <style>\n",
              "    .colab-df-container {\n",
              "      display:flex;\n",
              "      flex-wrap:wrap;\n",
              "      gap: 12px;\n",
              "    }\n",
              "\n",
              "    .colab-df-convert {\n",
              "      background-color: #E8F0FE;\n",
              "      border: none;\n",
              "      border-radius: 50%;\n",
              "      cursor: pointer;\n",
              "      display: none;\n",
              "      fill: #1967D2;\n",
              "      height: 32px;\n",
              "      padding: 0 0 0 0;\n",
              "      width: 32px;\n",
              "    }\n",
              "\n",
              "    .colab-df-convert:hover {\n",
              "      background-color: #E2EBFA;\n",
              "      box-shadow: 0px 1px 2px rgba(60, 64, 67, 0.3), 0px 1px 3px 1px rgba(60, 64, 67, 0.15);\n",
              "      fill: #174EA6;\n",
              "    }\n",
              "\n",
              "    [theme=dark] .colab-df-convert {\n",
              "      background-color: #3B4455;\n",
              "      fill: #D2E3FC;\n",
              "    }\n",
              "\n",
              "    [theme=dark] .colab-df-convert:hover {\n",
              "      background-color: #434B5C;\n",
              "      box-shadow: 0px 1px 3px 1px rgba(0, 0, 0, 0.15);\n",
              "      filter: drop-shadow(0px 1px 2px rgba(0, 0, 0, 0.3));\n",
              "      fill: #FFFFFF;\n",
              "    }\n",
              "  </style>\n",
              "\n",
              "      <script>\n",
              "        const buttonEl =\n",
              "          document.querySelector('#df-8af6012f-aed5-4bce-b4c7-ccdda5f6cbf9 button.colab-df-convert');\n",
              "        buttonEl.style.display =\n",
              "          google.colab.kernel.accessAllowed ? 'block' : 'none';\n",
              "\n",
              "        async function convertToInteractive(key) {\n",
              "          const element = document.querySelector('#df-8af6012f-aed5-4bce-b4c7-ccdda5f6cbf9');\n",
              "          const dataTable =\n",
              "            await google.colab.kernel.invokeFunction('convertToInteractive',\n",
              "                                                     [key], {});\n",
              "          if (!dataTable) return;\n",
              "\n",
              "          const docLinkHtml = 'Like what you see? Visit the ' +\n",
              "            '<a target=\"_blank\" href=https://colab.research.google.com/notebooks/data_table.ipynb>data table notebook</a>'\n",
              "            + ' to learn more about interactive tables.';\n",
              "          element.innerHTML = '';\n",
              "          dataTable['output_type'] = 'display_data';\n",
              "          await google.colab.output.renderOutput(dataTable, element);\n",
              "          const docLink = document.createElement('div');\n",
              "          docLink.innerHTML = docLinkHtml;\n",
              "          element.appendChild(docLink);\n",
              "        }\n",
              "      </script>\n",
              "    </div>\n",
              "  </div>\n",
              "  "
            ]
          },
          "metadata": {},
          "execution_count": 15
        }
      ]
    },
    {
      "cell_type": "code",
      "source": [
        "data[\"feel happy\"]=data[\"feel happy\"].replace({\"Yes \":2.5, \"No \":1}, inplace=False)\n",
        "data[\"games violence\"]=data[\"games violence\"].replace({\"Yes \":2, \"No \":1}, inplace=False)\n",
        "data[\"emotional outbursts\"]=data[\"emotional outbursts\"].replace({\"Yes \":1, \"No \":2}, inplace=False)\n",
        "data[\"bully others\"]=data[\"bully others\"].replace({\"Yes \":2.5, \"No \":1}, inplace=False)\n",
        "data[\"feel angry\"]=data[\"feel angry\"].replace({\"Yes \":2, \"No \":1}, inplace=False)\n",
        "data[\"cruel animal\"]=data[\"cruel animal\"].replace({\"Yes \":3, \"No \":1}, inplace=False)\n",
        "data[\"crimes family\"]=data[\"crimes family\"].replace({\"Yes \":2, \"No \":1}, inplace=False)\n",
        "data[\"bad actions\"]=data[\"bad actions\"].replace({\"Yes \":3, \"No \":1}, inplace=False)\n",
        "data[\"father lose job\"]=data[\"father lose job\"].replace({\"Yes \":1.5, \"No \":1}, inplace=False)\n",
        "data[\"member addicted alcoho\"]=data[\"member addicted alcoho\"].replace({\"Yes \":2, \"No \":1}, inplace=False)\n",
        "data[\"get fight\"]=data[\"get fight\"].replace({\"White weapon (razor, knife) \":3, \"Brick\":2,\"power \":1}, inplace=False)\n",
        "data[\"witnessed someone\"]=data[\"witnessed someone\"].replace({\" ignore\":1.5, \" help \":1}, inplace=False)\n",
        "data[\"parental education\"]=data[\"parental education\"].replace({\" Uneducated\":2,\"Less high school \":1.5,\"high school\":1,\"university education\":0.5}, inplace=False)\n",
        "\n"
      ],
      "metadata": {
        "id": "pub5xJL5hpca"
      },
      "execution_count": 16,
      "outputs": []
    },
    {
      "cell_type": "code",
      "source": [
        "import numpy as np\n",
        "mylist = [2.5,2,2,2.5,2,3,3,2,3,1.5,2,1.5,2]\n",
        "average_weights=np.mean(mylist)\n",
        "print(average_weights)"
      ],
      "metadata": {
        "colab": {
          "base_uri": "https://localhost:8080/"
        },
        "id": "KMCx05C4HZ-d",
        "outputId": "a8e78350-9f9d-4e56-e5ae-31fbfc6d4da7"
      },
      "execution_count": 17,
      "outputs": [
        {
          "output_type": "stream",
          "name": "stdout",
          "text": [
            "2.230769230769231\n"
          ]
        }
      ]
    },
    {
      "cell_type": "code",
      "source": [
        "x=1.8\n",
        "data.loc[((data[\"feel happy\"]+data[\"games violence\"]+data[\"emotional outbursts\"]+data[\"bully others\"]+data[\"feel angry\"]\n",
        "         +data[\"cruel animal\"]+data[\"crimes family\"]+data[\"bad actions\"]+data[\"father lose job\"]+data[\"member addicted alcoho\"]\n",
        "         +data[\"get fight\"]+data[\"witnessed someone\"]+data[\"parental education\"])/13)>=x,\"violence prediction\"]=3\n",
        "data.loc[((data[\"feel happy\"]+data[\"games violence\"]+data[\"emotional outbursts\"]+data[\"bully others\"]+data[\"feel angry\"]\n",
        "         +data[\"cruel animal\"]+data[\"crimes family\"]+data[\"bad actions\"]+data[\"father lose job\"]+data[\"member addicted alcoho\"]\n",
        "         +data[\"get fight\"]+data[\"witnessed someone\"]+data[\"parental education\"])/13)<x,\"violence prediction\"]=1\n"
      ],
      "metadata": {
        "id": "7KuuMaq1a-vh"
      },
      "execution_count": 18,
      "outputs": []
    },
    {
      "cell_type": "code",
      "source": [
        "data.head(5)"
      ],
      "metadata": {
        "id": "rslr9zEcA6Cv",
        "colab": {
          "base_uri": "https://localhost:8080/",
          "height": 441
        },
        "outputId": "64a6feb5-7f9a-460d-ea26-ad61689b5c04"
      },
      "execution_count": 19,
      "outputs": [
        {
          "output_type": "execute_result",
          "data": {
            "text/plain": [
              "    gender          age  feel happy  games violence  emotional outbursts  \\\n",
              "0    Male   17-19 years         1.0               2                    1   \n",
              "1    Male   11-13 years         1.0               1                    1   \n",
              "2    Male   17-19 years         1.0               2                    1   \n",
              "3  Female   17-19 years         1.0               1                    1   \n",
              "4  Female   17-19 years         2.5               2                    2   \n",
              "\n",
              "   bully others  feel angry  get fight  cruel animal  crimes family  \\\n",
              "0           1.0           2          1             1              1   \n",
              "1           1.0           2          1             1              1   \n",
              "2           2.5           1          1             1              1   \n",
              "3           1.0           1          1             1              1   \n",
              "4           2.5           2          1             1              1   \n",
              "\n",
              "   bad actions  witnessed someone  parental education  father lose job  \\\n",
              "0            1                1.0                 1.5              1.0   \n",
              "1            3                1.0                 0.5              1.0   \n",
              "2            1                1.0                 0.5              1.0   \n",
              "3            1                1.0                 1.0              1.0   \n",
              "4            3                1.5                 0.5              1.0   \n",
              "\n",
              "   member addicted alcoho  violence prediction  \n",
              "0                       2                  1.0  \n",
              "1                       1                  1.0  \n",
              "2                       2                  1.0  \n",
              "3                       1                  1.0  \n",
              "4                       1                  1.0  "
            ],
            "text/html": [
              "\n",
              "  <div id=\"df-4610fc8d-b597-4099-971d-9342c46de505\">\n",
              "    <div class=\"colab-df-container\">\n",
              "      <div>\n",
              "<style scoped>\n",
              "    .dataframe tbody tr th:only-of-type {\n",
              "        vertical-align: middle;\n",
              "    }\n",
              "\n",
              "    .dataframe tbody tr th {\n",
              "        vertical-align: top;\n",
              "    }\n",
              "\n",
              "    .dataframe thead th {\n",
              "        text-align: right;\n",
              "    }\n",
              "</style>\n",
              "<table border=\"1\" class=\"dataframe\">\n",
              "  <thead>\n",
              "    <tr style=\"text-align: right;\">\n",
              "      <th></th>\n",
              "      <th>gender</th>\n",
              "      <th>age</th>\n",
              "      <th>feel happy</th>\n",
              "      <th>games violence</th>\n",
              "      <th>emotional outbursts</th>\n",
              "      <th>bully others</th>\n",
              "      <th>feel angry</th>\n",
              "      <th>get fight</th>\n",
              "      <th>cruel animal</th>\n",
              "      <th>crimes family</th>\n",
              "      <th>bad actions</th>\n",
              "      <th>witnessed someone</th>\n",
              "      <th>parental education</th>\n",
              "      <th>father lose job</th>\n",
              "      <th>member addicted alcoho</th>\n",
              "      <th>violence prediction</th>\n",
              "    </tr>\n",
              "  </thead>\n",
              "  <tbody>\n",
              "    <tr>\n",
              "      <th>0</th>\n",
              "      <td>Male</td>\n",
              "      <td>17-19 years</td>\n",
              "      <td>1.0</td>\n",
              "      <td>2</td>\n",
              "      <td>1</td>\n",
              "      <td>1.0</td>\n",
              "      <td>2</td>\n",
              "      <td>1</td>\n",
              "      <td>1</td>\n",
              "      <td>1</td>\n",
              "      <td>1</td>\n",
              "      <td>1.0</td>\n",
              "      <td>1.5</td>\n",
              "      <td>1.0</td>\n",
              "      <td>2</td>\n",
              "      <td>1.0</td>\n",
              "    </tr>\n",
              "    <tr>\n",
              "      <th>1</th>\n",
              "      <td>Male</td>\n",
              "      <td>11-13 years</td>\n",
              "      <td>1.0</td>\n",
              "      <td>1</td>\n",
              "      <td>1</td>\n",
              "      <td>1.0</td>\n",
              "      <td>2</td>\n",
              "      <td>1</td>\n",
              "      <td>1</td>\n",
              "      <td>1</td>\n",
              "      <td>3</td>\n",
              "      <td>1.0</td>\n",
              "      <td>0.5</td>\n",
              "      <td>1.0</td>\n",
              "      <td>1</td>\n",
              "      <td>1.0</td>\n",
              "    </tr>\n",
              "    <tr>\n",
              "      <th>2</th>\n",
              "      <td>Male</td>\n",
              "      <td>17-19 years</td>\n",
              "      <td>1.0</td>\n",
              "      <td>2</td>\n",
              "      <td>1</td>\n",
              "      <td>2.5</td>\n",
              "      <td>1</td>\n",
              "      <td>1</td>\n",
              "      <td>1</td>\n",
              "      <td>1</td>\n",
              "      <td>1</td>\n",
              "      <td>1.0</td>\n",
              "      <td>0.5</td>\n",
              "      <td>1.0</td>\n",
              "      <td>2</td>\n",
              "      <td>1.0</td>\n",
              "    </tr>\n",
              "    <tr>\n",
              "      <th>3</th>\n",
              "      <td>Female</td>\n",
              "      <td>17-19 years</td>\n",
              "      <td>1.0</td>\n",
              "      <td>1</td>\n",
              "      <td>1</td>\n",
              "      <td>1.0</td>\n",
              "      <td>1</td>\n",
              "      <td>1</td>\n",
              "      <td>1</td>\n",
              "      <td>1</td>\n",
              "      <td>1</td>\n",
              "      <td>1.0</td>\n",
              "      <td>1.0</td>\n",
              "      <td>1.0</td>\n",
              "      <td>1</td>\n",
              "      <td>1.0</td>\n",
              "    </tr>\n",
              "    <tr>\n",
              "      <th>4</th>\n",
              "      <td>Female</td>\n",
              "      <td>17-19 years</td>\n",
              "      <td>2.5</td>\n",
              "      <td>2</td>\n",
              "      <td>2</td>\n",
              "      <td>2.5</td>\n",
              "      <td>2</td>\n",
              "      <td>1</td>\n",
              "      <td>1</td>\n",
              "      <td>1</td>\n",
              "      <td>3</td>\n",
              "      <td>1.5</td>\n",
              "      <td>0.5</td>\n",
              "      <td>1.0</td>\n",
              "      <td>1</td>\n",
              "      <td>1.0</td>\n",
              "    </tr>\n",
              "  </tbody>\n",
              "</table>\n",
              "</div>\n",
              "      <button class=\"colab-df-convert\" onclick=\"convertToInteractive('df-4610fc8d-b597-4099-971d-9342c46de505')\"\n",
              "              title=\"Convert this dataframe to an interactive table.\"\n",
              "              style=\"display:none;\">\n",
              "        \n",
              "  <svg xmlns=\"http://www.w3.org/2000/svg\" height=\"24px\"viewBox=\"0 0 24 24\"\n",
              "       width=\"24px\">\n",
              "    <path d=\"M0 0h24v24H0V0z\" fill=\"none\"/>\n",
              "    <path d=\"M18.56 5.44l.94 2.06.94-2.06 2.06-.94-2.06-.94-.94-2.06-.94 2.06-2.06.94zm-11 1L8.5 8.5l.94-2.06 2.06-.94-2.06-.94L8.5 2.5l-.94 2.06-2.06.94zm10 10l.94 2.06.94-2.06 2.06-.94-2.06-.94-.94-2.06-.94 2.06-2.06.94z\"/><path d=\"M17.41 7.96l-1.37-1.37c-.4-.4-.92-.59-1.43-.59-.52 0-1.04.2-1.43.59L10.3 9.45l-7.72 7.72c-.78.78-.78 2.05 0 2.83L4 21.41c.39.39.9.59 1.41.59.51 0 1.02-.2 1.41-.59l7.78-7.78 2.81-2.81c.8-.78.8-2.07 0-2.86zM5.41 20L4 18.59l7.72-7.72 1.47 1.35L5.41 20z\"/>\n",
              "  </svg>\n",
              "      </button>\n",
              "      \n",
              "  <style>\n",
              "    .colab-df-container {\n",
              "      display:flex;\n",
              "      flex-wrap:wrap;\n",
              "      gap: 12px;\n",
              "    }\n",
              "\n",
              "    .colab-df-convert {\n",
              "      background-color: #E8F0FE;\n",
              "      border: none;\n",
              "      border-radius: 50%;\n",
              "      cursor: pointer;\n",
              "      display: none;\n",
              "      fill: #1967D2;\n",
              "      height: 32px;\n",
              "      padding: 0 0 0 0;\n",
              "      width: 32px;\n",
              "    }\n",
              "\n",
              "    .colab-df-convert:hover {\n",
              "      background-color: #E2EBFA;\n",
              "      box-shadow: 0px 1px 2px rgba(60, 64, 67, 0.3), 0px 1px 3px 1px rgba(60, 64, 67, 0.15);\n",
              "      fill: #174EA6;\n",
              "    }\n",
              "\n",
              "    [theme=dark] .colab-df-convert {\n",
              "      background-color: #3B4455;\n",
              "      fill: #D2E3FC;\n",
              "    }\n",
              "\n",
              "    [theme=dark] .colab-df-convert:hover {\n",
              "      background-color: #434B5C;\n",
              "      box-shadow: 0px 1px 3px 1px rgba(0, 0, 0, 0.15);\n",
              "      filter: drop-shadow(0px 1px 2px rgba(0, 0, 0, 0.3));\n",
              "      fill: #FFFFFF;\n",
              "    }\n",
              "  </style>\n",
              "\n",
              "      <script>\n",
              "        const buttonEl =\n",
              "          document.querySelector('#df-4610fc8d-b597-4099-971d-9342c46de505 button.colab-df-convert');\n",
              "        buttonEl.style.display =\n",
              "          google.colab.kernel.accessAllowed ? 'block' : 'none';\n",
              "\n",
              "        async function convertToInteractive(key) {\n",
              "          const element = document.querySelector('#df-4610fc8d-b597-4099-971d-9342c46de505');\n",
              "          const dataTable =\n",
              "            await google.colab.kernel.invokeFunction('convertToInteractive',\n",
              "                                                     [key], {});\n",
              "          if (!dataTable) return;\n",
              "\n",
              "          const docLinkHtml = 'Like what you see? Visit the ' +\n",
              "            '<a target=\"_blank\" href=https://colab.research.google.com/notebooks/data_table.ipynb>data table notebook</a>'\n",
              "            + ' to learn more about interactive tables.';\n",
              "          element.innerHTML = '';\n",
              "          dataTable['output_type'] = 'display_data';\n",
              "          await google.colab.output.renderOutput(dataTable, element);\n",
              "          const docLink = document.createElement('div');\n",
              "          docLink.innerHTML = docLinkHtml;\n",
              "          element.appendChild(docLink);\n",
              "        }\n",
              "      </script>\n",
              "    </div>\n",
              "  </div>\n",
              "  "
            ]
          },
          "metadata": {},
          "execution_count": 19
        }
      ]
    },
    {
      "cell_type": "code",
      "source": [
        "x=data.drop(['violence prediction','gender','age'],axis=1)\n",
        "y=data['violence prediction'];"
      ],
      "metadata": {
        "id": "vRkJN545iWOw"
      },
      "execution_count": 20,
      "outputs": []
    },
    {
      "cell_type": "code",
      "source": [
        "from sklearn.model_selection import train_test_split\n",
        "X_train,X_test,y_train,y_test=train_test_split(x,y,test_size=0.5,random_state=42)\n"
      ],
      "metadata": {
        "id": "cnRr2kmsjIPy"
      },
      "execution_count": 21,
      "outputs": []
    },
    {
      "cell_type": "code",
      "source": [
        "from sklearn.linear_model import LogisticRegression\n",
        "model=LogisticRegression(max_iter=300)\n",
        "\n",
        "X_train.head(5)"
      ],
      "metadata": {
        "colab": {
          "base_uri": "https://localhost:8080/",
          "height": 285
        },
        "id": "xMsfG9sJlKCx",
        "outputId": "76cc07dc-4894-4fde-f743-3c9bc4e8a097"
      },
      "execution_count": 22,
      "outputs": [
        {
          "output_type": "execute_result",
          "data": {
            "text/plain": [
              "     feel happy  games violence  emotional outbursts  bully others  \\\n",
              "46          2.5               2                    2           2.5   \n",
              "349         1.0               2                    1           2.5   \n",
              "371         2.5               2                    2           1.0   \n",
              "523         1.0               1                    1           2.5   \n",
              "261         1.0               1                    1           1.0   \n",
              "\n",
              "     feel angry  get fight  cruel animal  crimes family  bad actions  \\\n",
              "46            2          1             3              2            3   \n",
              "349           2          1             3              2            1   \n",
              "371           2          2             3              1            1   \n",
              "523           2          3             3              2            3   \n",
              "261           2          1             1              2            1   \n",
              "\n",
              "     witnessed someone  parental education  father lose job  \\\n",
              "46                 1.5                 2.0              1.5   \n",
              "349                1.0                 0.5              1.0   \n",
              "371                1.5                 0.5              1.0   \n",
              "523                1.0                 1.0              1.0   \n",
              "261                1.0                 0.5              1.0   \n",
              "\n",
              "     member addicted alcoho  \n",
              "46                        2  \n",
              "349                       2  \n",
              "371                       2  \n",
              "523                       1  \n",
              "261                       1  "
            ],
            "text/html": [
              "\n",
              "  <div id=\"df-142986be-7dfe-4382-847e-68acefd636f9\">\n",
              "    <div class=\"colab-df-container\">\n",
              "      <div>\n",
              "<style scoped>\n",
              "    .dataframe tbody tr th:only-of-type {\n",
              "        vertical-align: middle;\n",
              "    }\n",
              "\n",
              "    .dataframe tbody tr th {\n",
              "        vertical-align: top;\n",
              "    }\n",
              "\n",
              "    .dataframe thead th {\n",
              "        text-align: right;\n",
              "    }\n",
              "</style>\n",
              "<table border=\"1\" class=\"dataframe\">\n",
              "  <thead>\n",
              "    <tr style=\"text-align: right;\">\n",
              "      <th></th>\n",
              "      <th>feel happy</th>\n",
              "      <th>games violence</th>\n",
              "      <th>emotional outbursts</th>\n",
              "      <th>bully others</th>\n",
              "      <th>feel angry</th>\n",
              "      <th>get fight</th>\n",
              "      <th>cruel animal</th>\n",
              "      <th>crimes family</th>\n",
              "      <th>bad actions</th>\n",
              "      <th>witnessed someone</th>\n",
              "      <th>parental education</th>\n",
              "      <th>father lose job</th>\n",
              "      <th>member addicted alcoho</th>\n",
              "    </tr>\n",
              "  </thead>\n",
              "  <tbody>\n",
              "    <tr>\n",
              "      <th>46</th>\n",
              "      <td>2.5</td>\n",
              "      <td>2</td>\n",
              "      <td>2</td>\n",
              "      <td>2.5</td>\n",
              "      <td>2</td>\n",
              "      <td>1</td>\n",
              "      <td>3</td>\n",
              "      <td>2</td>\n",
              "      <td>3</td>\n",
              "      <td>1.5</td>\n",
              "      <td>2.0</td>\n",
              "      <td>1.5</td>\n",
              "      <td>2</td>\n",
              "    </tr>\n",
              "    <tr>\n",
              "      <th>349</th>\n",
              "      <td>1.0</td>\n",
              "      <td>2</td>\n",
              "      <td>1</td>\n",
              "      <td>2.5</td>\n",
              "      <td>2</td>\n",
              "      <td>1</td>\n",
              "      <td>3</td>\n",
              "      <td>2</td>\n",
              "      <td>1</td>\n",
              "      <td>1.0</td>\n",
              "      <td>0.5</td>\n",
              "      <td>1.0</td>\n",
              "      <td>2</td>\n",
              "    </tr>\n",
              "    <tr>\n",
              "      <th>371</th>\n",
              "      <td>2.5</td>\n",
              "      <td>2</td>\n",
              "      <td>2</td>\n",
              "      <td>1.0</td>\n",
              "      <td>2</td>\n",
              "      <td>2</td>\n",
              "      <td>3</td>\n",
              "      <td>1</td>\n",
              "      <td>1</td>\n",
              "      <td>1.5</td>\n",
              "      <td>0.5</td>\n",
              "      <td>1.0</td>\n",
              "      <td>2</td>\n",
              "    </tr>\n",
              "    <tr>\n",
              "      <th>523</th>\n",
              "      <td>1.0</td>\n",
              "      <td>1</td>\n",
              "      <td>1</td>\n",
              "      <td>2.5</td>\n",
              "      <td>2</td>\n",
              "      <td>3</td>\n",
              "      <td>3</td>\n",
              "      <td>2</td>\n",
              "      <td>3</td>\n",
              "      <td>1.0</td>\n",
              "      <td>1.0</td>\n",
              "      <td>1.0</td>\n",
              "      <td>1</td>\n",
              "    </tr>\n",
              "    <tr>\n",
              "      <th>261</th>\n",
              "      <td>1.0</td>\n",
              "      <td>1</td>\n",
              "      <td>1</td>\n",
              "      <td>1.0</td>\n",
              "      <td>2</td>\n",
              "      <td>1</td>\n",
              "      <td>1</td>\n",
              "      <td>2</td>\n",
              "      <td>1</td>\n",
              "      <td>1.0</td>\n",
              "      <td>0.5</td>\n",
              "      <td>1.0</td>\n",
              "      <td>1</td>\n",
              "    </tr>\n",
              "  </tbody>\n",
              "</table>\n",
              "</div>\n",
              "      <button class=\"colab-df-convert\" onclick=\"convertToInteractive('df-142986be-7dfe-4382-847e-68acefd636f9')\"\n",
              "              title=\"Convert this dataframe to an interactive table.\"\n",
              "              style=\"display:none;\">\n",
              "        \n",
              "  <svg xmlns=\"http://www.w3.org/2000/svg\" height=\"24px\"viewBox=\"0 0 24 24\"\n",
              "       width=\"24px\">\n",
              "    <path d=\"M0 0h24v24H0V0z\" fill=\"none\"/>\n",
              "    <path d=\"M18.56 5.44l.94 2.06.94-2.06 2.06-.94-2.06-.94-.94-2.06-.94 2.06-2.06.94zm-11 1L8.5 8.5l.94-2.06 2.06-.94-2.06-.94L8.5 2.5l-.94 2.06-2.06.94zm10 10l.94 2.06.94-2.06 2.06-.94-2.06-.94-.94-2.06-.94 2.06-2.06.94z\"/><path d=\"M17.41 7.96l-1.37-1.37c-.4-.4-.92-.59-1.43-.59-.52 0-1.04.2-1.43.59L10.3 9.45l-7.72 7.72c-.78.78-.78 2.05 0 2.83L4 21.41c.39.39.9.59 1.41.59.51 0 1.02-.2 1.41-.59l7.78-7.78 2.81-2.81c.8-.78.8-2.07 0-2.86zM5.41 20L4 18.59l7.72-7.72 1.47 1.35L5.41 20z\"/>\n",
              "  </svg>\n",
              "      </button>\n",
              "      \n",
              "  <style>\n",
              "    .colab-df-container {\n",
              "      display:flex;\n",
              "      flex-wrap:wrap;\n",
              "      gap: 12px;\n",
              "    }\n",
              "\n",
              "    .colab-df-convert {\n",
              "      background-color: #E8F0FE;\n",
              "      border: none;\n",
              "      border-radius: 50%;\n",
              "      cursor: pointer;\n",
              "      display: none;\n",
              "      fill: #1967D2;\n",
              "      height: 32px;\n",
              "      padding: 0 0 0 0;\n",
              "      width: 32px;\n",
              "    }\n",
              "\n",
              "    .colab-df-convert:hover {\n",
              "      background-color: #E2EBFA;\n",
              "      box-shadow: 0px 1px 2px rgba(60, 64, 67, 0.3), 0px 1px 3px 1px rgba(60, 64, 67, 0.15);\n",
              "      fill: #174EA6;\n",
              "    }\n",
              "\n",
              "    [theme=dark] .colab-df-convert {\n",
              "      background-color: #3B4455;\n",
              "      fill: #D2E3FC;\n",
              "    }\n",
              "\n",
              "    [theme=dark] .colab-df-convert:hover {\n",
              "      background-color: #434B5C;\n",
              "      box-shadow: 0px 1px 3px 1px rgba(0, 0, 0, 0.15);\n",
              "      filter: drop-shadow(0px 1px 2px rgba(0, 0, 0, 0.3));\n",
              "      fill: #FFFFFF;\n",
              "    }\n",
              "  </style>\n",
              "\n",
              "      <script>\n",
              "        const buttonEl =\n",
              "          document.querySelector('#df-142986be-7dfe-4382-847e-68acefd636f9 button.colab-df-convert');\n",
              "        buttonEl.style.display =\n",
              "          google.colab.kernel.accessAllowed ? 'block' : 'none';\n",
              "\n",
              "        async function convertToInteractive(key) {\n",
              "          const element = document.querySelector('#df-142986be-7dfe-4382-847e-68acefd636f9');\n",
              "          const dataTable =\n",
              "            await google.colab.kernel.invokeFunction('convertToInteractive',\n",
              "                                                     [key], {});\n",
              "          if (!dataTable) return;\n",
              "\n",
              "          const docLinkHtml = 'Like what you see? Visit the ' +\n",
              "            '<a target=\"_blank\" href=https://colab.research.google.com/notebooks/data_table.ipynb>data table notebook</a>'\n",
              "            + ' to learn more about interactive tables.';\n",
              "          element.innerHTML = '';\n",
              "          dataTable['output_type'] = 'display_data';\n",
              "          await google.colab.output.renderOutput(dataTable, element);\n",
              "          const docLink = document.createElement('div');\n",
              "          docLink.innerHTML = docLinkHtml;\n",
              "          element.appendChild(docLink);\n",
              "        }\n",
              "      </script>\n",
              "    </div>\n",
              "  </div>\n",
              "  "
            ]
          },
          "metadata": {},
          "execution_count": 22
        }
      ]
    },
    {
      "cell_type": "code",
      "source": [
        "model.fit(X_train,y_train)"
      ],
      "metadata": {
        "colab": {
          "base_uri": "https://localhost:8080/",
          "height": 74
        },
        "id": "goSqUyEbmaG3",
        "outputId": "0e7977b8-9f03-4bfe-afb2-24b1ff964f96"
      },
      "execution_count": 23,
      "outputs": [
        {
          "output_type": "execute_result",
          "data": {
            "text/plain": [
              "LogisticRegression(max_iter=300)"
            ],
            "text/html": [
              "<style>#sk-container-id-1 {color: black;background-color: white;}#sk-container-id-1 pre{padding: 0;}#sk-container-id-1 div.sk-toggleable {background-color: white;}#sk-container-id-1 label.sk-toggleable__label {cursor: pointer;display: block;width: 100%;margin-bottom: 0;padding: 0.3em;box-sizing: border-box;text-align: center;}#sk-container-id-1 label.sk-toggleable__label-arrow:before {content: \"▸\";float: left;margin-right: 0.25em;color: #696969;}#sk-container-id-1 label.sk-toggleable__label-arrow:hover:before {color: black;}#sk-container-id-1 div.sk-estimator:hover label.sk-toggleable__label-arrow:before {color: black;}#sk-container-id-1 div.sk-toggleable__content {max-height: 0;max-width: 0;overflow: hidden;text-align: left;background-color: #f0f8ff;}#sk-container-id-1 div.sk-toggleable__content pre {margin: 0.2em;color: black;border-radius: 0.25em;background-color: #f0f8ff;}#sk-container-id-1 input.sk-toggleable__control:checked~div.sk-toggleable__content {max-height: 200px;max-width: 100%;overflow: auto;}#sk-container-id-1 input.sk-toggleable__control:checked~label.sk-toggleable__label-arrow:before {content: \"▾\";}#sk-container-id-1 div.sk-estimator input.sk-toggleable__control:checked~label.sk-toggleable__label {background-color: #d4ebff;}#sk-container-id-1 div.sk-label input.sk-toggleable__control:checked~label.sk-toggleable__label {background-color: #d4ebff;}#sk-container-id-1 input.sk-hidden--visually {border: 0;clip: rect(1px 1px 1px 1px);clip: rect(1px, 1px, 1px, 1px);height: 1px;margin: -1px;overflow: hidden;padding: 0;position: absolute;width: 1px;}#sk-container-id-1 div.sk-estimator {font-family: monospace;background-color: #f0f8ff;border: 1px dotted black;border-radius: 0.25em;box-sizing: border-box;margin-bottom: 0.5em;}#sk-container-id-1 div.sk-estimator:hover {background-color: #d4ebff;}#sk-container-id-1 div.sk-parallel-item::after {content: \"\";width: 100%;border-bottom: 1px solid gray;flex-grow: 1;}#sk-container-id-1 div.sk-label:hover label.sk-toggleable__label {background-color: #d4ebff;}#sk-container-id-1 div.sk-serial::before {content: \"\";position: absolute;border-left: 1px solid gray;box-sizing: border-box;top: 0;bottom: 0;left: 50%;z-index: 0;}#sk-container-id-1 div.sk-serial {display: flex;flex-direction: column;align-items: center;background-color: white;padding-right: 0.2em;padding-left: 0.2em;position: relative;}#sk-container-id-1 div.sk-item {position: relative;z-index: 1;}#sk-container-id-1 div.sk-parallel {display: flex;align-items: stretch;justify-content: center;background-color: white;position: relative;}#sk-container-id-1 div.sk-item::before, #sk-container-id-1 div.sk-parallel-item::before {content: \"\";position: absolute;border-left: 1px solid gray;box-sizing: border-box;top: 0;bottom: 0;left: 50%;z-index: -1;}#sk-container-id-1 div.sk-parallel-item {display: flex;flex-direction: column;z-index: 1;position: relative;background-color: white;}#sk-container-id-1 div.sk-parallel-item:first-child::after {align-self: flex-end;width: 50%;}#sk-container-id-1 div.sk-parallel-item:last-child::after {align-self: flex-start;width: 50%;}#sk-container-id-1 div.sk-parallel-item:only-child::after {width: 0;}#sk-container-id-1 div.sk-dashed-wrapped {border: 1px dashed gray;margin: 0 0.4em 0.5em 0.4em;box-sizing: border-box;padding-bottom: 0.4em;background-color: white;}#sk-container-id-1 div.sk-label label {font-family: monospace;font-weight: bold;display: inline-block;line-height: 1.2em;}#sk-container-id-1 div.sk-label-container {text-align: center;}#sk-container-id-1 div.sk-container {/* jupyter's `normalize.less` sets `[hidden] { display: none; }` but bootstrap.min.css set `[hidden] { display: none !important; }` so we also need the `!important` here to be able to override the default hidden behavior on the sphinx rendered scikit-learn.org. See: https://github.com/scikit-learn/scikit-learn/issues/21755 */display: inline-block !important;position: relative;}#sk-container-id-1 div.sk-text-repr-fallback {display: none;}</style><div id=\"sk-container-id-1\" class=\"sk-top-container\"><div class=\"sk-text-repr-fallback\"><pre>LogisticRegression(max_iter=300)</pre><b>In a Jupyter environment, please rerun this cell to show the HTML representation or trust the notebook. <br />On GitHub, the HTML representation is unable to render, please try loading this page with nbviewer.org.</b></div><div class=\"sk-container\" hidden><div class=\"sk-item\"><div class=\"sk-estimator sk-toggleable\"><input class=\"sk-toggleable__control sk-hidden--visually\" id=\"sk-estimator-id-1\" type=\"checkbox\" checked><label for=\"sk-estimator-id-1\" class=\"sk-toggleable__label sk-toggleable__label-arrow\">LogisticRegression</label><div class=\"sk-toggleable__content\"><pre>LogisticRegression(max_iter=300)</pre></div></div></div></div></div>"
            ]
          },
          "metadata": {},
          "execution_count": 23
        }
      ]
    },
    {
      "cell_type": "code",
      "source": [
        "prediction=model.predict(X_test)"
      ],
      "metadata": {
        "id": "V_gX2zagmy1V"
      },
      "execution_count": 24,
      "outputs": []
    },
    {
      "cell_type": "code",
      "source": [
        "from sklearn.metrics import classification_report,confusion_matrix,accuracy_score\n",
        "print(classification_report(y_test,prediction))\n"
      ],
      "metadata": {
        "colab": {
          "base_uri": "https://localhost:8080/"
        },
        "id": "qfa65oERnMze",
        "outputId": "de92c504-452b-44f3-9d65-15a75b4b73b2"
      },
      "execution_count": 25,
      "outputs": [
        {
          "output_type": "stream",
          "name": "stdout",
          "text": [
            "              precision    recall  f1-score   support\n",
            "\n",
            "         1.0       0.97      1.00      0.99       343\n",
            "         3.0       0.98      0.84      0.91        57\n",
            "\n",
            "    accuracy                           0.97       400\n",
            "   macro avg       0.98      0.92      0.95       400\n",
            "weighted avg       0.98      0.97      0.97       400\n",
            "\n"
          ]
        }
      ]
    },
    {
      "cell_type": "code",
      "source": [
        "confusion_matrix(y_test,prediction)\n"
      ],
      "metadata": {
        "colab": {
          "base_uri": "https://localhost:8080/"
        },
        "id": "y7XQOg_EoGDS",
        "outputId": "776e3a38-a081-4a28-cc92-2ff4bdccef05"
      },
      "execution_count": 26,
      "outputs": [
        {
          "output_type": "execute_result",
          "data": {
            "text/plain": [
              "array([[342,   1],\n",
              "       [  9,  48]])"
            ]
          },
          "metadata": {},
          "execution_count": 26
        }
      ]
    },
    {
      "cell_type": "code",
      "source": [
        "accuracy_score(y_test,prediction)"
      ],
      "metadata": {
        "colab": {
          "base_uri": "https://localhost:8080/"
        },
        "id": "daDgHXYdoVEe",
        "outputId": "85c5ca9b-976d-4617-d875-5c8f7f6f1695"
      },
      "execution_count": 27,
      "outputs": [
        {
          "output_type": "execute_result",
          "data": {
            "text/plain": [
              "0.975"
            ]
          },
          "metadata": {},
          "execution_count": 27
        }
      ]
    },
    {
      "cell_type": "code",
      "source": [
        "model.score(X_test,y_test)"
      ],
      "metadata": {
        "colab": {
          "base_uri": "https://localhost:8080/"
        },
        "id": "pSM8afEeFIje",
        "outputId": "80733854-b3ff-419a-f202-49a69b53d537"
      },
      "execution_count": 28,
      "outputs": [
        {
          "output_type": "execute_result",
          "data": {
            "text/plain": [
              "0.975"
            ]
          },
          "metadata": {},
          "execution_count": 28
        }
      ]
    },
    {
      "cell_type": "code",
      "source": [
        "model.score(X_train,y_train)"
      ],
      "metadata": {
        "colab": {
          "base_uri": "https://localhost:8080/"
        },
        "id": "OxebY-TjFTJP",
        "outputId": "33304763-efa9-484f-f73d-ad343aa0eaec"
      },
      "execution_count": 29,
      "outputs": [
        {
          "output_type": "execute_result",
          "data": {
            "text/plain": [
              "0.99"
            ]
          },
          "metadata": {},
          "execution_count": 29
        }
      ]
    },
    {
      "cell_type": "code",
      "source": [
        "import pandas as pd\n",
        "import numpy as np\n",
        "from sklearn.model_selection import KFold, StratifiedKFold, cross_val_score\n",
        "from sklearn import linear_model, tree, ensemble\n",
        "kf = StratifiedKFold(n_splits=5, shuffle=True, random_state=42)\n",
        "cnt = 1\n",
        "for train_index, test_index in kf.split(x, y):\n",
        "    print(f'Fold:{cnt}, Train set: {len(train_index)}, Test set:{len(test_index)}')\n",
        "    cnt+=1"
      ],
      "metadata": {
        "colab": {
          "base_uri": "https://localhost:8080/"
        },
        "id": "SFZrPc5lDWcU",
        "outputId": "b9ae4996-2fe2-4fab-e0f8-f7711c835391"
      },
      "execution_count": 30,
      "outputs": [
        {
          "output_type": "stream",
          "name": "stdout",
          "text": [
            "Fold:1, Train set: 640, Test set:160\n",
            "Fold:2, Train set: 640, Test set:160\n",
            "Fold:3, Train set: 640, Test set:160\n",
            "Fold:4, Train set: 640, Test set:160\n",
            "Fold:5, Train set: 640, Test set:160\n"
          ]
        }
      ]
    },
    {
      "cell_type": "code",
      "source": [
        "new_input = [[2.5,2,2,3,1,2,1,2,3,1,1.5,1.5,2]]"
      ],
      "metadata": {
        "id": "My7asuF_oXE-"
      },
      "execution_count": 31,
      "outputs": []
    },
    {
      "cell_type": "code",
      "source": [
        "output = model.predict(new_input)"
      ],
      "metadata": {
        "colab": {
          "base_uri": "https://localhost:8080/"
        },
        "id": "PFkWdB5lq_BI",
        "outputId": "4e5630bd-2eec-4e28-c771-47860e66394c"
      },
      "execution_count": 32,
      "outputs": [
        {
          "output_type": "stream",
          "name": "stderr",
          "text": [
            "/usr/local/lib/python3.10/dist-packages/sklearn/base.py:439: UserWarning: X does not have valid feature names, but LogisticRegression was fitted with feature names\n",
            "  warnings.warn(\n"
          ]
        }
      ]
    },
    {
      "cell_type": "code",
      "source": [
        "print(output)"
      ],
      "metadata": {
        "colab": {
          "base_uri": "https://localhost:8080/"
        },
        "id": "wF-Wv_y4rHd2",
        "outputId": "dd6767ca-334a-4453-9bcb-fba81f8af29e"
      },
      "execution_count": 33,
      "outputs": [
        {
          "output_type": "stream",
          "name": "stdout",
          "text": [
            "[3.]\n"
          ]
        }
      ]
    },
    {
      "cell_type": "code",
      "source": [
        "import matplotlib.pyplot as plt\n",
        "import seaborn as sns\n",
        "from sklearn import metrics\n",
        "plt.figure(figsize=(4,4))\n",
        "sns.heatmap(confusion_matrix(y_test,prediction), annot=True, fmt=\".3f\", linewidths=.5, square = True, cmap = 'Blues_r');\n",
        "plt.ylabel('Actual label');\n",
        "plt.xlabel('Predicted label');\n",
        "all_sample_title = 'Accuracy Score: {0}'.format(model.score(X_test,y_test))\n",
        "plt.title(all_sample_title, size = 15);\n"
      ],
      "metadata": {
        "colab": {
          "base_uri": "https://localhost:8080/",
          "height": 358
        },
        "id": "P_DWOozkDWlQ",
        "outputId": "c09fe84f-bc83-40a4-c8af-e4af3277ee42"
      },
      "execution_count": 34,
      "outputs": [
        {
          "output_type": "display_data",
          "data": {
            "text/plain": [
              "<Figure size 400x400 with 2 Axes>"
            ],
            "image/png": "[encoded data removed]"
          },
          "metadata": {}
        }
      ]
    },
    {
      "cell_type": "markdown",
      "source": [
        "**RONDDOM FOREST ALGORITHEM**\n"
      ],
      "metadata": {
        "id": "v_9ZhHXY1srO"
      }
    },
    {
      "cell_type": "code",
      "source": [
        "!pip install category_encoders\n",
        "Xlabels=data.drop(['violence prediction','gender','age'],axis=1)\n",
        "Ylabel=data['violence prediction'];\n",
        "from sklearn.model_selection import train_test_split\n",
        "import category_encoders as ce\n",
        "Xxx_train, Xxx_test, yyy_train, yyy_test = train_test_split(Xlabels, Ylabel, test_size = 0.5, random_state = 42)\n",
        "encoder = ce.OrdinalEncoder(cols=[\"feel happy\",\"games violence\",\"emotional outbursts\",\"bully others\",\"feel angry\",\n",
        "\"get fight\",\"cruel animal\",\"crimes family\",\"bad actions\",\"witnessed someone\",\"parental education\"\n",
        ",\"father lose job\",\"member addicted alcoho\"])\n",
        "encoder2 = ce.OrdinalEncoder(cols=['violence prediction'])\n",
        "Xxx_train = encoder.fit_transform(Xxx_train)\n",
        "Xxx_test = encoder.transform(Xxx_test)\n",
        "yyy_train=encoder2.fit_transform(yyy_train)\n",
        "yyy_test=encoder2.transform(yyy_test)"
      ],
      "metadata": {
        "id": "dhfupoqZ-VqE",
        "colab": {
          "base_uri": "https://localhost:8080/"
        },
        "outputId": "cc7cf0bd-c9f9-4619-d88f-ae9c6c0eed94"
      },
      "execution_count": 35,
      "outputs": [
        {
          "output_type": "stream",
          "name": "stdout",
          "text": [
            "Collecting category_encoders\n",
            "  Downloading category_encoders-2.6.1-py2.py3-none-any.whl (81 kB)\n",
            "\u001b[?25l     \u001b[90m━━━━━━━━━━━━━━━━━━━━━━━━━━━━━━━━━━━━━━━━\u001b[0m \u001b[32m0.0/81.9 kB\u001b[0m \u001b[31m?\u001b[0m eta \u001b[36m-:--:--\u001b[0m\r\u001b[2K     \u001b[90m━━━━━━━━━━━━━━━━━━━━━━━━━━━━━━━━━━━━━━━━\u001b[0m \u001b[32m81.9/81.9 kB\u001b[0m \u001b[31m4.2 MB/s\u001b[0m eta \u001b[36m0:00:00\u001b[0m\n",
            "\u001b[?25hRequirement already satisfied: numpy>=1.14.0 in /usr/local/lib/python3.10/dist-packages (from category_encoders) (1.22.4)\n",
            "Requirement already satisfied: scikit-learn>=0.20.0 in /usr/local/lib/python3.10/dist-packages (from category_encoders) (1.2.2)\n",
            "Requirement already satisfied: scipy>=1.0.0 in /usr/local/lib/python3.10/dist-packages (from category_encoders) (1.10.1)\n",
            "Requirement already satisfied: statsmodels>=0.9.0 in /usr/local/lib/python3.10/dist-packages (from category_encoders) (0.13.5)\n",
            "Requirement already satisfied: pandas>=1.0.5 in /usr/local/lib/python3.10/dist-packages (from category_encoders) (1.5.3)\n",
            "Requirement already satisfied: patsy>=0.5.1 in /usr/local/lib/python3.10/dist-packages (from category_encoders) (0.5.3)\n",
            "Requirement already satisfied: python-dateutil>=2.8.1 in /usr/local/lib/python3.10/dist-packages (from pandas>=1.0.5->category_encoders) (2.8.2)\n",
            "Requirement already satisfied: pytz>=2020.1 in /usr/local/lib/python3.10/dist-packages (from pandas>=1.0.5->category_encoders) (2022.7.1)\n",
            "Requirement already satisfied: six in /usr/local/lib/python3.10/dist-packages (from patsy>=0.5.1->category_encoders) (1.16.0)\n",
            "Requirement already satisfied: joblib>=1.1.1 in /usr/local/lib/python3.10/dist-packages (from scikit-learn>=0.20.0->category_encoders) (1.2.0)\n",
            "Requirement already satisfied: threadpoolctl>=2.0.0 in /usr/local/lib/python3.10/dist-packages (from scikit-learn>=0.20.0->category_encoders) (3.1.0)\n",
            "Requirement already satisfied: packaging>=21.3 in /usr/local/lib/python3.10/dist-packages (from statsmodels>=0.9.0->category_encoders) (23.1)\n",
            "Installing collected packages: category_encoders\n",
            "Successfully installed category_encoders-2.6.1\n"
          ]
        }
      ]
    },
    {
      "cell_type": "code",
      "source": [
        "Xxx_train.shape, Xxx_test.shape"
      ],
      "metadata": {
        "colab": {
          "base_uri": "https://localhost:8080/"
        },
        "id": "xi73DaZ-13UQ",
        "outputId": "0c6c066c-2d2d-4b5e-c8f7-3c79c50cdd70"
      },
      "execution_count": 36,
      "outputs": [
        {
          "output_type": "execute_result",
          "data": {
            "text/plain": [
              "((400, 13), (400, 13))"
            ]
          },
          "metadata": {},
          "execution_count": 36
        }
      ]
    },
    {
      "cell_type": "code",
      "source": [
        "from sklearn.ensemble import RandomForestClassifier\n",
        "rfc_100 = RandomForestClassifier(n_estimators=100, random_state=0)\n",
        "rfc_100.fit(Xxx_train, yyy_train)\n",
        "y_pred_100 = rfc_100.predict(Xxx_test)\n",
        "print('Model accuracy score with 100 decision-trees : {0:0.4f}'. format(accuracy_score(yyy_test, y_pred_100)))"
      ],
      "metadata": {
        "colab": {
          "base_uri": "https://localhost:8080/"
        },
        "id": "P2UwGMds191y",
        "outputId": "f81822a6-af5f-4fbc-b49a-ea74c2b6f2c3"
      },
      "execution_count": 37,
      "outputs": [
        {
          "output_type": "stream",
          "name": "stderr",
          "text": [
            "<ipython-input-37-0e594772e019>:3: DataConversionWarning: A column-vector y was passed when a 1d array was expected. Please change the shape of y to (n_samples,), for example using ravel().\n",
            "  rfc_100.fit(Xxx_train, yyy_train)\n"
          ]
        },
        {
          "output_type": "stream",
          "name": "stdout",
          "text": [
            "Model accuracy score with 100 decision-trees : 0.9375\n"
          ]
        }
      ]
    },
    {
      "cell_type": "code",
      "source": [
        "print(classification_report(yyy_test,y_pred_100))"
      ],
      "metadata": {
        "colab": {
          "base_uri": "https://localhost:8080/"
        },
        "id": "ct6zLOPWuk0o",
        "outputId": "9b227df5-3888-4440-91ba-d551a70ba506"
      },
      "execution_count": 38,
      "outputs": [
        {
          "output_type": "stream",
          "name": "stdout",
          "text": [
            "              precision    recall  f1-score   support\n",
            "\n",
            "           1       0.90      0.63      0.74        57\n",
            "           2       0.94      0.99      0.96       343\n",
            "\n",
            "    accuracy                           0.94       400\n",
            "   macro avg       0.92      0.81      0.85       400\n",
            "weighted avg       0.94      0.94      0.93       400\n",
            "\n"
          ]
        }
      ]
    },
    {
      "cell_type": "code",
      "source": [
        "new_input2 = [[1,2,2,1,1,2,1,2,1,1,1.5,1.5,2]]\n",
        "output2 = rfc_100.predict(new_input2)\n",
        "print(output2)"
      ],
      "metadata": {
        "colab": {
          "base_uri": "https://localhost:8080/"
        },
        "id": "0zicExKh3aVz",
        "outputId": "b2e04d13-9357-4eff-bbf9-f000d653e120"
      },
      "execution_count": 39,
      "outputs": [
        {
          "output_type": "stream",
          "name": "stdout",
          "text": [
            "[1]\n"
          ]
        },
        {
          "output_type": "stream",
          "name": "stderr",
          "text": [
            "/usr/local/lib/python3.10/dist-packages/sklearn/base.py:439: UserWarning: X does not have valid feature names, but RandomForestClassifier was fitted with feature names\n",
            "  warnings.warn(\n"
          ]
        }
      ]
    },
    {
      "cell_type": "code",
      "source": [
        "import matplotlib.pyplot as plt\n",
        "import seaborn as sns\n",
        "from sklearn import metrics\n",
        "plt.figure(figsize=(4,4))\n",
        "sns.heatmap(confusion_matrix(yyy_test,y_pred_100), annot=True, fmt=\".3f\", linewidths=.5, square = True, cmap = 'Blues_r');\n",
        "plt.ylabel('Actual label');\n",
        "plt.xlabel('Predicted label');\n",
        "all_sample_title = 'Accuracy Score: {0}'.format(accuracy_score(yyy_test, y_pred_100))\n",
        "plt.title(all_sample_title, size = 15);"
      ],
      "metadata": {
        "colab": {
          "base_uri": "https://localhost:8080/",
          "height": 358
        },
        "id": "l1_BeYJA8iDk",
        "outputId": "e71b4a18-61e7-4214-a450-a9648c8673c7"
      },
      "execution_count": 40,
      "outputs": [
        {
          "output_type": "display_data",
          "data": {
            "text/plain": [
              "<Figure size 400x400 with 2 Axes>"
            ],
            "image/png": "[encoded data removed]"
          },
          "metadata": {}
        }
      ]
    },
    {
      "cell_type": "markdown",
      "source": [
        "**Support Vector Machine**"
      ],
      "metadata": {
        "id": "YX3L7db3uyCz"
      }
    },
    {
      "cell_type": "code",
      "source": [
        "Xlabelss=data.drop(['violence prediction','gender','age'],axis=1)\n",
        "Ylabels=data['violence prediction'];"
      ],
      "metadata": {
        "id": "wjZofdQgu3ni"
      },
      "execution_count": 42,
      "outputs": []
    },
    {
      "cell_type": "code",
      "source": [
        "from sklearn.model_selection import train_test_split\n",
        "Xx_train, Xx_test, yy_train, yy_test = train_test_split(Xlabelss, Ylabels, test_size = 0.5, random_state = 42)"
      ],
      "metadata": {
        "id": "s4BwmBjUw4i5"
      },
      "execution_count": 43,
      "outputs": []
    },
    {
      "cell_type": "code",
      "source": [
        "\n",
        "from sklearn.svm import SVC\n",
        "from sklearn.metrics import accuracy_score\n",
        "svc=SVC()\n",
        "svc.fit(Xx_train,yy_train)\n",
        "y_pred=svc.predict(Xx_test)\n",
        "print('Model accuracy score with default hyperparameters: {0:0.4f}'. format(accuracy_score(yy_test, y_pred)))"
      ],
      "metadata": {
        "colab": {
          "base_uri": "https://localhost:8080/"
        },
        "id": "jEB08H7_xrWv",
        "outputId": "5fe0e9a8-0881-4584-8f2f-eda0902a699b"
      },
      "execution_count": 44,
      "outputs": [
        {
          "output_type": "stream",
          "name": "stdout",
          "text": [
            "Model accuracy score with default hyperparameters: 0.9550\n"
          ]
        }
      ]
    },
    {
      "cell_type": "code",
      "source": [
        "print(classification_report(yy_test,y_pred))"
      ],
      "metadata": {
        "colab": {
          "base_uri": "https://localhost:8080/"
        },
        "id": "lGxqqRK7vJzH",
        "outputId": "a65fad33-4d3a-41b0-a817-ea1a649bbe18"
      },
      "execution_count": 45,
      "outputs": [
        {
          "output_type": "stream",
          "name": "stdout",
          "text": [
            "              precision    recall  f1-score   support\n",
            "\n",
            "         1.0       0.96      0.99      0.97       343\n",
            "         3.0       0.93      0.74      0.82        57\n",
            "\n",
            "    accuracy                           0.95       400\n",
            "   macro avg       0.95      0.86      0.90       400\n",
            "weighted avg       0.95      0.95      0.95       400\n",
            "\n"
          ]
        }
      ]
    },
    {
      "cell_type": "code",
      "source": [
        "new_input3 = [[2.5,2,2,3,1,2,1,2,3,1,1.5,1.5,2]]\n",
        "output3 =svc.predict(new_input3)\n",
        "print(output3)"
      ],
      "metadata": {
        "colab": {
          "base_uri": "https://localhost:8080/"
        },
        "id": "NGVXqh-j0Jm2",
        "outputId": "1091bdf0-7d7f-497f-f79f-3fe38e740c13"
      },
      "execution_count": 46,
      "outputs": [
        {
          "output_type": "stream",
          "name": "stdout",
          "text": [
            "[1.]\n"
          ]
        },
        {
          "output_type": "stream",
          "name": "stderr",
          "text": [
            "/usr/local/lib/python3.10/dist-packages/sklearn/base.py:439: UserWarning: X does not have valid feature names, but SVC was fitted with feature names\n",
            "  warnings.warn(\n"
          ]
        }
      ]
    },
    {
      "cell_type": "code",
      "source": [
        "import matplotlib.pyplot as plt\n",
        "import seaborn as sns\n",
        "from sklearn import metrics\n",
        "plt.figure(figsize=(4,4))\n",
        "sns.heatmap(confusion_matrix(yy_test,y_pred), annot=True, fmt=\".3f\", linewidths=.5, square = True, cmap = 'Blues_r');\n",
        "plt.ylabel('Actual label');\n",
        "plt.xlabel('Predicted label');\n",
        "all_sample_title = 'Accuracy Score: {0}'.format(accuracy_score(yy_test, y_pred))\n",
        "plt.title(all_sample_title, size = 15);"
      ],
      "metadata": {
        "colab": {
          "base_uri": "https://localhost:8080/",
          "height": 358
        },
        "id": "eIIk9G5w-Gmq",
        "outputId": "66109ecf-a68c-45f7-cb5c-0c098301847f"
      },
      "execution_count": 47,
      "outputs": [
        {
          "output_type": "display_data",
          "data": {
            "text/plain": [
              "<Figure size 400x400 with 2 Axes>"
            ],
            "image/png": "[encoded data removed]"
          },
          "metadata": {}
        }
      ]
    },
    {
      "cell_type": "code",
      "source": [
        "from joblib import dump, load"
      ],
      "metadata": {
        "id": "9aZSTWm0Jp3g"
      },
      "execution_count": 48,
      "outputs": []
    },
    {
      "cell_type": "code",
      "source": [
        "\n",
        "dump(model,'Logistic_regression.h5')"
      ],
      "metadata": {
        "colab": {
          "base_uri": "https://localhost:8080/"
        },
        "id": "KnSSC4MCKOAL",
        "outputId": "48c654b6-ec4d-4edd-f491-b7546f273c8b"
      },
      "execution_count": 49,
      "outputs": [
        {
          "output_type": "execute_result",
          "data": {
            "text/plain": [
              "['Logistic_regression.h5']"
            ]
          },
          "metadata": {},
          "execution_count": 49
        }
      ]
    }
  ]
}